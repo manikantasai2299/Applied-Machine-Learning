{
  "nbformat": 4,
  "nbformat_minor": 0,
  "metadata": {
    "colab": {
      "provenance": [],
      "authorship_tag": "ABX9TyOTpkAA698SXC+yzFyxl6Ga",
      "include_colab_link": true
    },
    "kernelspec": {
      "name": "python3",
      "display_name": "Python 3"
    },
    "language_info": {
      "name": "python"
    }
  },
  "cells": [
    {
      "cell_type": "markdown",
      "metadata": {
        "id": "view-in-github",
        "colab_type": "text"
      },
      "source": [
        "<a href=\"https://colab.research.google.com/github/manikantasai2299/Applied-Machine-Learning/blob/main/Text_analyser.ipynb\" target=\"_parent\"><img src=\"https://colab.research.google.com/assets/colab-badge.svg\" alt=\"Open In Colab\"/></a>"
      ]
    },
    {
      "cell_type": "code",
      "execution_count": 1,
      "metadata": {
        "colab": {
          "base_uri": "https://localhost:8080/"
        },
        "id": "RwwInPy0sC4T",
        "outputId": "d5bd5527-ab70-4ad6-df95-605c0667e22e"
      },
      "outputs": [
        {
          "output_type": "stream",
          "name": "stderr",
          "text": [
            "[nltk_data] Downloading package punkt to /root/nltk_data...\n",
            "[nltk_data]   Unzipping tokenizers/punkt.zip.\n"
          ]
        },
        {
          "output_type": "stream",
          "name": "stdout",
          "text": [
            "['Are you curious about tokenization?', \"Let's see how it works!\", 'We need to analyze a couple of sentences with punctuations to see it in action.']\n"
          ]
        }
      ],
      "source": [
        "import nltk\n",
        "nltk.download('punkt')\n",
        "from nltk.tokenize import sent_tokenize\n",
        "text=\"Are you curious about tokenization? Let's see how it works! We need to analyze a couple of sentences with punctuations to see it in action.\"\n",
        "sent_tokenize_list=sent_tokenize(text)\n",
        "print(sent_tokenize_list)"
      ]
    },
    {
      "cell_type": "code",
      "source": [
        "from nltk.tokenize import word_tokenize\n",
        "print(\"Word Tokenizer: \\n\")\n",
        "print(word_tokenize(text))"
      ],
      "metadata": {
        "colab": {
          "base_uri": "https://localhost:8080/"
        },
        "id": "8ImytLG3sKk-",
        "outputId": "c4745468-6616-4c69-f97c-30d58497b1ea"
      },
      "execution_count": 2,
      "outputs": [
        {
          "output_type": "stream",
          "name": "stdout",
          "text": [
            "Word Tokenizer: \n",
            "\n",
            "['Are', 'you', 'curious', 'about', 'tokenization', '?', 'Let', \"'s\", 'see', 'how', 'it', 'works', '!', 'We', 'need', 'to', 'analyze', 'a', 'couple', 'of', 'sentences', 'with', 'punctuations', 'to', 'see', 'it', 'in', 'action', '.']\n"
          ]
        }
      ]
    },
    {
      "cell_type": "code",
      "source": [
        "from nltk.tokenize import WordPunctTokenizer\n",
        "word_punct_tokenizer = WordPunctTokenizer()\n",
        "print(\"\\nWord punct tokenizer:\")\n",
        "print(word_punct_tokenizer.tokenize(text))"
      ],
      "metadata": {
        "colab": {
          "base_uri": "https://localhost:8080/"
        },
        "id": "Nl-CTVlTsND8",
        "outputId": "55d1561a-ee0d-4365-b887-4e319554bf88"
      },
      "execution_count": 3,
      "outputs": [
        {
          "output_type": "stream",
          "name": "stdout",
          "text": [
            "\n",
            "Word punct tokenizer:\n",
            "['Are', 'you', 'curious', 'about', 'tokenization', '?', 'Let', \"'\", 's', 'see', 'how', 'it', 'works', '!', 'We', 'need', 'to', 'analyze', 'a', 'couple', 'of', 'sentences', 'with', 'punctuations', 'to', 'see', 'it', 'in', 'action', '.']\n"
          ]
        }
      ]
    },
    {
      "cell_type": "code",
      "source": [
        "from nltk.stem.porter import PorterStemmer\n",
        "from nltk.stem.lancaster import LancasterStemmer\n",
        "from nltk.stem.snowball import SnowballStemmer\n",
        "words= ['bike','car','riding','playing','is','dog','the', 'beaches', 'dreamt','badminton']\n",
        "stemmers=['PORTER','LANCASTER','SNOWBALL']\n",
        "\n",
        "stemmer_porter=PorterStemmer()\n",
        "stemmer_lancaster=LancasterStemmer()\n",
        "stemmer_snowball=SnowballStemmer('english')\n",
        "\n",
        "formatted_row='{:>16}'*(len(stemmers)+1)\n",
        "print('\\n',formatted_row.format('WORD',*stemmers),'\\n')\n",
        "\n",
        "for word in words:\n",
        "  stemmed_words=[stemmer_porter.stem(word),stemmer_lancaster.stem(word),stemmer_snowball.stem(word)]\n",
        "  print (formatted_row.format(word,*stemmed_words))"
      ],
      "metadata": {
        "colab": {
          "base_uri": "https://localhost:8080/"
        },
        "id": "d5nkU_ahsQjT",
        "outputId": "968baa09-e231-4bbf-8c05-d3ebbe5da9e5"
      },
      "execution_count": 4,
      "outputs": [
        {
          "output_type": "stream",
          "name": "stdout",
          "text": [
            "\n",
            "             WORD          PORTER       LANCASTER        SNOWBALL \n",
            "\n",
            "            bike            bike             bik            bike\n",
            "             car             car             car             car\n",
            "          riding            ride             rid            ride\n",
            "         playing            play            play            play\n",
            "              is              is              is              is\n",
            "             dog             dog             dog             dog\n",
            "             the             the             the             the\n",
            "         beaches           beach           beach           beach\n",
            "          dreamt          dreamt          dreamt          dreamt\n",
            "       badminton       badminton       badminton       badminton\n"
          ]
        }
      ]
    },
    {
      "cell_type": "code",
      "source": [
        "from nltk.stem import WordNetLemmatizer\n",
        "import nltk\n",
        "nltk.download('wordnet')\n",
        "words = ['car','bike','riding','driving','is','dog','the','beaches','grounded','eating','badminton']\n",
        "lemmatizers = ['NOUN LEMMATIZER','VERB LEMMATIZER']\n",
        "lemmatizer_wordnet = WordNetLemmatizer()\n",
        "\n",
        "formatted_row = '{:>24}'*(len(lemmatizers)+1)\n",
        "print ('\\n', formatted_row.format('WORD',*lemmatizers),'\\n')\n",
        "\n",
        "for word in words:\n",
        "  lemmatized_words = [lemmatizer_wordnet.lemmatize(word,pos='n'),lemmatizer_wordnet.lemmatize(word, pos='v')]\n",
        "  print (formatted_row.format(word, *lemmatized_words))"
      ],
      "metadata": {
        "colab": {
          "base_uri": "https://localhost:8080/"
        },
        "id": "_SunaNzisSVL",
        "outputId": "0250661e-af87-4df2-c7d9-deb7fcb63e7e"
      },
      "execution_count": 5,
      "outputs": [
        {
          "output_type": "stream",
          "name": "stderr",
          "text": [
            "[nltk_data] Downloading package wordnet to /root/nltk_data...\n"
          ]
        },
        {
          "output_type": "stream",
          "name": "stdout",
          "text": [
            "\n",
            "                     WORD         NOUN LEMMATIZER         VERB LEMMATIZER \n",
            "\n",
            "                     car                     car                     car\n",
            "                    bike                    bike                    bike\n",
            "                  riding                  riding                     rid\n",
            "                 driving                 driving                   drive\n",
            "                      is                      is                      be\n",
            "                     dog                     dog                     dog\n",
            "                     the                     the                     the\n",
            "                 beaches                   beach                   beach\n",
            "                grounded                grounded                  ground\n",
            "                  eating                  eating                     eat\n",
            "               badminton               badminton               badminton\n"
          ]
        }
      ]
    }
  ]
}